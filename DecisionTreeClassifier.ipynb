{
  "nbformat": 4,
  "nbformat_minor": 0,
  "metadata": {
    "colab": {
      "provenance": [],
      "authorship_tag": "ABX9TyOUU6P1qUB/SvRsojFSB+kb",
      "include_colab_link": true
    },
    "kernelspec": {
      "name": "python3",
      "display_name": "Python 3"
    },
    "language_info": {
      "name": "python"
    }
  },
  "cells": [
    {
      "cell_type": "markdown",
      "metadata": {
        "id": "view-in-github",
        "colab_type": "text"
      },
      "source": [
        "<a href=\"https://colab.research.google.com/github/taimoorsardar/Machine-Learning-Projects/blob/main/DecisionTreeClassifier.ipynb\" target=\"_parent\"><img src=\"https://colab.research.google.com/assets/colab-badge.svg\" alt=\"Open In Colab\"/></a>"
      ]
    },
    {
      "cell_type": "markdown",
      "source": [
        "Remember to upload the dataset into your drive before running the cells and change the path accordingly"
      ],
      "metadata": {
        "id": "w186craDSVI3"
      }
    },
    {
      "cell_type": "markdown",
      "source": [
        "#Importing Dataset"
      ],
      "metadata": {
        "id": "WSCbbFhrSepU"
      }
    },
    {
      "cell_type": "code",
      "execution_count": null,
      "metadata": {
        "id": "C5PwQdc3ycjC",
        "colab": {
          "base_uri": "https://localhost:8080/"
        },
        "outputId": "2ea06e17-5fb3-43a5-abb8-4a0443b4388e"
      },
      "outputs": [
        {
          "output_type": "stream",
          "name": "stdout",
          "text": [
            "Mounted at /content/drive\n"
          ]
        }
      ],
      "source": [
        "from google.colab import drive\n",
        "drive.mount('/content/drive')"
      ]
    },
    {
      "cell_type": "code",
      "source": [
        "import pandas as pd\n",
        "import numpy as np"
      ],
      "metadata": {
        "id": "ij1c1Lh_SjRU"
      },
      "execution_count": null,
      "outputs": []
    },
    {
      "cell_type": "markdown",
      "source": [
        "#### i first made the dataset into a csv file and then used it"
      ],
      "metadata": {
        "id": "l6G1I5VSbijj"
      }
    },
    {
      "cell_type": "code",
      "source": [
        "dataset = pd.read_csv('/content/drive/MyDrive/Semester 6/ML/data.csv')"
      ],
      "metadata": {
        "id": "Ko-ToP-bSm3Y"
      },
      "execution_count": null,
      "outputs": []
    },
    {
      "cell_type": "code",
      "source": [
        "dataset['Est'][3] = '10-30'\n",
        "dataset['Est'][9] = '10-30'"
      ],
      "metadata": {
        "id": "eLFhQJgKoIDO"
      },
      "execution_count": null,
      "outputs": []
    },
    {
      "cell_type": "code",
      "source": [
        "dataset"
      ],
      "metadata": {
        "colab": {
          "base_uri": "https://localhost:8080/",
          "height": 425
        },
        "id": "kOT32xtBS4n4",
        "outputId": "d8f3e1b0-42e2-4210-bed3-6f6667174f5b"
      },
      "execution_count": null,
      "outputs": [
        {
          "output_type": "execute_result",
          "data": {
            "text/plain": [
              "    Alt  Bar  Fri  Hun   Pat Price Rain  Res     Type    Est Will Wait\n",
              "0   Yes   No   No  Yes  Some  $$$    No  Yes   French   0-10       Yes\n",
              "1   Yes   No   No  Yes  Full     $   No   No     Thai  30-60        No\n",
              "2    No  Yes   No   No  Some    $    No   No   Burger   0-10       Yes\n",
              "3   Yes   No  Yes  Yes  Full    $   Yes   No     Thai  10-30       Yes\n",
              "4   Yes   No  Yes   No  Full   $$$   No  Yes   French    >60        No\n",
              "5    No  Yes   No  Yes  Some   $$   Yes  Yes  Italian   0-10       Yes\n",
              "6    No  Yes   No   No  None     $  Yes   No   Burger   0-10        No\n",
              "7    No   No   No  Yes  Some   $$   Yes  Yes     Thai   0-10       Yes\n",
              "8    No  Yes  Yes   No  Full     $  Yes   No   Burger    >60        No\n",
              "9   Yes  Yes  Yes  Yes  Full   $$$   No  Yes  Italian  10-30        No\n",
              "10   No   No   No   No  None     $   No   No     Thai   0-10        No\n",
              "11  Yes  Yes  Yes  Yes  Full     $   No   No   Burger  30-60       Yes"
            ],
            "text/html": [
              "\n",
              "  <div id=\"df-9dd0c73b-6346-4362-bd2a-a87b4a7b1202\" class=\"colab-df-container\">\n",
              "    <div>\n",
              "<style scoped>\n",
              "    .dataframe tbody tr th:only-of-type {\n",
              "        vertical-align: middle;\n",
              "    }\n",
              "\n",
              "    .dataframe tbody tr th {\n",
              "        vertical-align: top;\n",
              "    }\n",
              "\n",
              "    .dataframe thead th {\n",
              "        text-align: right;\n",
              "    }\n",
              "</style>\n",
              "<table border=\"1\" class=\"dataframe\">\n",
              "  <thead>\n",
              "    <tr style=\"text-align: right;\">\n",
              "      <th></th>\n",
              "      <th>Alt</th>\n",
              "      <th>Bar</th>\n",
              "      <th>Fri</th>\n",
              "      <th>Hun</th>\n",
              "      <th>Pat</th>\n",
              "      <th>Price</th>\n",
              "      <th>Rain</th>\n",
              "      <th>Res</th>\n",
              "      <th>Type</th>\n",
              "      <th>Est</th>\n",
              "      <th>Will Wait</th>\n",
              "    </tr>\n",
              "  </thead>\n",
              "  <tbody>\n",
              "    <tr>\n",
              "      <th>0</th>\n",
              "      <td>Yes</td>\n",
              "      <td>No</td>\n",
              "      <td>No</td>\n",
              "      <td>Yes</td>\n",
              "      <td>Some</td>\n",
              "      <td>$$$</td>\n",
              "      <td>No</td>\n",
              "      <td>Yes</td>\n",
              "      <td>French</td>\n",
              "      <td>0-10</td>\n",
              "      <td>Yes</td>\n",
              "    </tr>\n",
              "    <tr>\n",
              "      <th>1</th>\n",
              "      <td>Yes</td>\n",
              "      <td>No</td>\n",
              "      <td>No</td>\n",
              "      <td>Yes</td>\n",
              "      <td>Full</td>\n",
              "      <td>$</td>\n",
              "      <td>No</td>\n",
              "      <td>No</td>\n",
              "      <td>Thai</td>\n",
              "      <td>30-60</td>\n",
              "      <td>No</td>\n",
              "    </tr>\n",
              "    <tr>\n",
              "      <th>2</th>\n",
              "      <td>No</td>\n",
              "      <td>Yes</td>\n",
              "      <td>No</td>\n",
              "      <td>No</td>\n",
              "      <td>Some</td>\n",
              "      <td>$</td>\n",
              "      <td>No</td>\n",
              "      <td>No</td>\n",
              "      <td>Burger</td>\n",
              "      <td>0-10</td>\n",
              "      <td>Yes</td>\n",
              "    </tr>\n",
              "    <tr>\n",
              "      <th>3</th>\n",
              "      <td>Yes</td>\n",
              "      <td>No</td>\n",
              "      <td>Yes</td>\n",
              "      <td>Yes</td>\n",
              "      <td>Full</td>\n",
              "      <td>$</td>\n",
              "      <td>Yes</td>\n",
              "      <td>No</td>\n",
              "      <td>Thai</td>\n",
              "      <td>10-30</td>\n",
              "      <td>Yes</td>\n",
              "    </tr>\n",
              "    <tr>\n",
              "      <th>4</th>\n",
              "      <td>Yes</td>\n",
              "      <td>No</td>\n",
              "      <td>Yes</td>\n",
              "      <td>No</td>\n",
              "      <td>Full</td>\n",
              "      <td>$$$</td>\n",
              "      <td>No</td>\n",
              "      <td>Yes</td>\n",
              "      <td>French</td>\n",
              "      <td>&gt;60</td>\n",
              "      <td>No</td>\n",
              "    </tr>\n",
              "    <tr>\n",
              "      <th>5</th>\n",
              "      <td>No</td>\n",
              "      <td>Yes</td>\n",
              "      <td>No</td>\n",
              "      <td>Yes</td>\n",
              "      <td>Some</td>\n",
              "      <td>$$</td>\n",
              "      <td>Yes</td>\n",
              "      <td>Yes</td>\n",
              "      <td>Italian</td>\n",
              "      <td>0-10</td>\n",
              "      <td>Yes</td>\n",
              "    </tr>\n",
              "    <tr>\n",
              "      <th>6</th>\n",
              "      <td>No</td>\n",
              "      <td>Yes</td>\n",
              "      <td>No</td>\n",
              "      <td>No</td>\n",
              "      <td>None</td>\n",
              "      <td>$</td>\n",
              "      <td>Yes</td>\n",
              "      <td>No</td>\n",
              "      <td>Burger</td>\n",
              "      <td>0-10</td>\n",
              "      <td>No</td>\n",
              "    </tr>\n",
              "    <tr>\n",
              "      <th>7</th>\n",
              "      <td>No</td>\n",
              "      <td>No</td>\n",
              "      <td>No</td>\n",
              "      <td>Yes</td>\n",
              "      <td>Some</td>\n",
              "      <td>$$</td>\n",
              "      <td>Yes</td>\n",
              "      <td>Yes</td>\n",
              "      <td>Thai</td>\n",
              "      <td>0-10</td>\n",
              "      <td>Yes</td>\n",
              "    </tr>\n",
              "    <tr>\n",
              "      <th>8</th>\n",
              "      <td>No</td>\n",
              "      <td>Yes</td>\n",
              "      <td>Yes</td>\n",
              "      <td>No</td>\n",
              "      <td>Full</td>\n",
              "      <td>$</td>\n",
              "      <td>Yes</td>\n",
              "      <td>No</td>\n",
              "      <td>Burger</td>\n",
              "      <td>&gt;60</td>\n",
              "      <td>No</td>\n",
              "    </tr>\n",
              "    <tr>\n",
              "      <th>9</th>\n",
              "      <td>Yes</td>\n",
              "      <td>Yes</td>\n",
              "      <td>Yes</td>\n",
              "      <td>Yes</td>\n",
              "      <td>Full</td>\n",
              "      <td>$$$</td>\n",
              "      <td>No</td>\n",
              "      <td>Yes</td>\n",
              "      <td>Italian</td>\n",
              "      <td>10-30</td>\n",
              "      <td>No</td>\n",
              "    </tr>\n",
              "    <tr>\n",
              "      <th>10</th>\n",
              "      <td>No</td>\n",
              "      <td>No</td>\n",
              "      <td>No</td>\n",
              "      <td>No</td>\n",
              "      <td>None</td>\n",
              "      <td>$</td>\n",
              "      <td>No</td>\n",
              "      <td>No</td>\n",
              "      <td>Thai</td>\n",
              "      <td>0-10</td>\n",
              "      <td>No</td>\n",
              "    </tr>\n",
              "    <tr>\n",
              "      <th>11</th>\n",
              "      <td>Yes</td>\n",
              "      <td>Yes</td>\n",
              "      <td>Yes</td>\n",
              "      <td>Yes</td>\n",
              "      <td>Full</td>\n",
              "      <td>$</td>\n",
              "      <td>No</td>\n",
              "      <td>No</td>\n",
              "      <td>Burger</td>\n",
              "      <td>30-60</td>\n",
              "      <td>Yes</td>\n",
              "    </tr>\n",
              "  </tbody>\n",
              "</table>\n",
              "</div>\n",
              "    <div class=\"colab-df-buttons\">\n",
              "\n",
              "  <div class=\"colab-df-container\">\n",
              "    <button class=\"colab-df-convert\" onclick=\"convertToInteractive('df-9dd0c73b-6346-4362-bd2a-a87b4a7b1202')\"\n",
              "            title=\"Convert this dataframe to an interactive table.\"\n",
              "            style=\"display:none;\">\n",
              "\n",
              "  <svg xmlns=\"http://www.w3.org/2000/svg\" height=\"24px\" viewBox=\"0 -960 960 960\">\n",
              "    <path d=\"M120-120v-720h720v720H120Zm60-500h600v-160H180v160Zm220 220h160v-160H400v160Zm0 220h160v-160H400v160ZM180-400h160v-160H180v160Zm440 0h160v-160H620v160ZM180-180h160v-160H180v160Zm440 0h160v-160H620v160Z\"/>\n",
              "  </svg>\n",
              "    </button>\n",
              "\n",
              "  <style>\n",
              "    .colab-df-container {\n",
              "      display:flex;\n",
              "      gap: 12px;\n",
              "    }\n",
              "\n",
              "    .colab-df-convert {\n",
              "      background-color: #E8F0FE;\n",
              "      border: none;\n",
              "      border-radius: 50%;\n",
              "      cursor: pointer;\n",
              "      display: none;\n",
              "      fill: #1967D2;\n",
              "      height: 32px;\n",
              "      padding: 0 0 0 0;\n",
              "      width: 32px;\n",
              "    }\n",
              "\n",
              "    .colab-df-convert:hover {\n",
              "      background-color: #E2EBFA;\n",
              "      box-shadow: 0px 1px 2px rgba(60, 64, 67, 0.3), 0px 1px 3px 1px rgba(60, 64, 67, 0.15);\n",
              "      fill: #174EA6;\n",
              "    }\n",
              "\n",
              "    .colab-df-buttons div {\n",
              "      margin-bottom: 4px;\n",
              "    }\n",
              "\n",
              "    [theme=dark] .colab-df-convert {\n",
              "      background-color: #3B4455;\n",
              "      fill: #D2E3FC;\n",
              "    }\n",
              "\n",
              "    [theme=dark] .colab-df-convert:hover {\n",
              "      background-color: #434B5C;\n",
              "      box-shadow: 0px 1px 3px 1px rgba(0, 0, 0, 0.15);\n",
              "      filter: drop-shadow(0px 1px 2px rgba(0, 0, 0, 0.3));\n",
              "      fill: #FFFFFF;\n",
              "    }\n",
              "  </style>\n",
              "\n",
              "    <script>\n",
              "      const buttonEl =\n",
              "        document.querySelector('#df-9dd0c73b-6346-4362-bd2a-a87b4a7b1202 button.colab-df-convert');\n",
              "      buttonEl.style.display =\n",
              "        google.colab.kernel.accessAllowed ? 'block' : 'none';\n",
              "\n",
              "      async function convertToInteractive(key) {\n",
              "        const element = document.querySelector('#df-9dd0c73b-6346-4362-bd2a-a87b4a7b1202');\n",
              "        const dataTable =\n",
              "          await google.colab.kernel.invokeFunction('convertToInteractive',\n",
              "                                                    [key], {});\n",
              "        if (!dataTable) return;\n",
              "\n",
              "        const docLinkHtml = 'Like what you see? Visit the ' +\n",
              "          '<a target=\"_blank\" href=https://colab.research.google.com/notebooks/data_table.ipynb>data table notebook</a>'\n",
              "          + ' to learn more about interactive tables.';\n",
              "        element.innerHTML = '';\n",
              "        dataTable['output_type'] = 'display_data';\n",
              "        await google.colab.output.renderOutput(dataTable, element);\n",
              "        const docLink = document.createElement('div');\n",
              "        docLink.innerHTML = docLinkHtml;\n",
              "        element.appendChild(docLink);\n",
              "      }\n",
              "    </script>\n",
              "  </div>\n",
              "\n",
              "\n",
              "<div id=\"df-e0676d03-1fcd-4266-a56d-9c5a3ef7868e\">\n",
              "  <button class=\"colab-df-quickchart\" onclick=\"quickchart('df-e0676d03-1fcd-4266-a56d-9c5a3ef7868e')\"\n",
              "            title=\"Suggest charts\"\n",
              "            style=\"display:none;\">\n",
              "\n",
              "<svg xmlns=\"http://www.w3.org/2000/svg\" height=\"24px\"viewBox=\"0 0 24 24\"\n",
              "     width=\"24px\">\n",
              "    <g>\n",
              "        <path d=\"M19 3H5c-1.1 0-2 .9-2 2v14c0 1.1.9 2 2 2h14c1.1 0 2-.9 2-2V5c0-1.1-.9-2-2-2zM9 17H7v-7h2v7zm4 0h-2V7h2v10zm4 0h-2v-4h2v4z\"/>\n",
              "    </g>\n",
              "</svg>\n",
              "  </button>\n",
              "\n",
              "<style>\n",
              "  .colab-df-quickchart {\n",
              "      --bg-color: #E8F0FE;\n",
              "      --fill-color: #1967D2;\n",
              "      --hover-bg-color: #E2EBFA;\n",
              "      --hover-fill-color: #174EA6;\n",
              "      --disabled-fill-color: #AAA;\n",
              "      --disabled-bg-color: #DDD;\n",
              "  }\n",
              "\n",
              "  [theme=dark] .colab-df-quickchart {\n",
              "      --bg-color: #3B4455;\n",
              "      --fill-color: #D2E3FC;\n",
              "      --hover-bg-color: #434B5C;\n",
              "      --hover-fill-color: #FFFFFF;\n",
              "      --disabled-bg-color: #3B4455;\n",
              "      --disabled-fill-color: #666;\n",
              "  }\n",
              "\n",
              "  .colab-df-quickchart {\n",
              "    background-color: var(--bg-color);\n",
              "    border: none;\n",
              "    border-radius: 50%;\n",
              "    cursor: pointer;\n",
              "    display: none;\n",
              "    fill: var(--fill-color);\n",
              "    height: 32px;\n",
              "    padding: 0;\n",
              "    width: 32px;\n",
              "  }\n",
              "\n",
              "  .colab-df-quickchart:hover {\n",
              "    background-color: var(--hover-bg-color);\n",
              "    box-shadow: 0 1px 2px rgba(60, 64, 67, 0.3), 0 1px 3px 1px rgba(60, 64, 67, 0.15);\n",
              "    fill: var(--button-hover-fill-color);\n",
              "  }\n",
              "\n",
              "  .colab-df-quickchart-complete:disabled,\n",
              "  .colab-df-quickchart-complete:disabled:hover {\n",
              "    background-color: var(--disabled-bg-color);\n",
              "    fill: var(--disabled-fill-color);\n",
              "    box-shadow: none;\n",
              "  }\n",
              "\n",
              "  .colab-df-spinner {\n",
              "    border: 2px solid var(--fill-color);\n",
              "    border-color: transparent;\n",
              "    border-bottom-color: var(--fill-color);\n",
              "    animation:\n",
              "      spin 1s steps(1) infinite;\n",
              "  }\n",
              "\n",
              "  @keyframes spin {\n",
              "    0% {\n",
              "      border-color: transparent;\n",
              "      border-bottom-color: var(--fill-color);\n",
              "      border-left-color: var(--fill-color);\n",
              "    }\n",
              "    20% {\n",
              "      border-color: transparent;\n",
              "      border-left-color: var(--fill-color);\n",
              "      border-top-color: var(--fill-color);\n",
              "    }\n",
              "    30% {\n",
              "      border-color: transparent;\n",
              "      border-left-color: var(--fill-color);\n",
              "      border-top-color: var(--fill-color);\n",
              "      border-right-color: var(--fill-color);\n",
              "    }\n",
              "    40% {\n",
              "      border-color: transparent;\n",
              "      border-right-color: var(--fill-color);\n",
              "      border-top-color: var(--fill-color);\n",
              "    }\n",
              "    60% {\n",
              "      border-color: transparent;\n",
              "      border-right-color: var(--fill-color);\n",
              "    }\n",
              "    80% {\n",
              "      border-color: transparent;\n",
              "      border-right-color: var(--fill-color);\n",
              "      border-bottom-color: var(--fill-color);\n",
              "    }\n",
              "    90% {\n",
              "      border-color: transparent;\n",
              "      border-bottom-color: var(--fill-color);\n",
              "    }\n",
              "  }\n",
              "</style>\n",
              "\n",
              "  <script>\n",
              "    async function quickchart(key) {\n",
              "      const quickchartButtonEl =\n",
              "        document.querySelector('#' + key + ' button');\n",
              "      quickchartButtonEl.disabled = true;  // To prevent multiple clicks.\n",
              "      quickchartButtonEl.classList.add('colab-df-spinner');\n",
              "      try {\n",
              "        const charts = await google.colab.kernel.invokeFunction(\n",
              "            'suggestCharts', [key], {});\n",
              "      } catch (error) {\n",
              "        console.error('Error during call to suggestCharts:', error);\n",
              "      }\n",
              "      quickchartButtonEl.classList.remove('colab-df-spinner');\n",
              "      quickchartButtonEl.classList.add('colab-df-quickchart-complete');\n",
              "    }\n",
              "    (() => {\n",
              "      let quickchartButtonEl =\n",
              "        document.querySelector('#df-e0676d03-1fcd-4266-a56d-9c5a3ef7868e button');\n",
              "      quickchartButtonEl.style.display =\n",
              "        google.colab.kernel.accessAllowed ? 'block' : 'none';\n",
              "    })();\n",
              "  </script>\n",
              "</div>\n",
              "    </div>\n",
              "  </div>\n"
            ],
            "application/vnd.google.colaboratory.intrinsic+json": {
              "type": "dataframe",
              "variable_name": "dataset",
              "summary": "{\n  \"name\": \"dataset\",\n  \"rows\": 12,\n  \"fields\": [\n    {\n      \"column\": \"Alt\",\n      \"properties\": {\n        \"dtype\": \"category\",\n        \"num_unique_values\": 2,\n        \"samples\": [\n          \"No\",\n          \"Yes\"\n        ],\n        \"semantic_type\": \"\",\n        \"description\": \"\"\n      }\n    },\n    {\n      \"column\": \"Bar\",\n      \"properties\": {\n        \"dtype\": \"category\",\n        \"num_unique_values\": 2,\n        \"samples\": [\n          \"Yes\",\n          \"No\"\n        ],\n        \"semantic_type\": \"\",\n        \"description\": \"\"\n      }\n    },\n    {\n      \"column\": \"Fri\",\n      \"properties\": {\n        \"dtype\": \"category\",\n        \"num_unique_values\": 2,\n        \"samples\": [\n          \"Yes\",\n          \"No\"\n        ],\n        \"semantic_type\": \"\",\n        \"description\": \"\"\n      }\n    },\n    {\n      \"column\": \"Hun\",\n      \"properties\": {\n        \"dtype\": \"category\",\n        \"num_unique_values\": 2,\n        \"samples\": [\n          \"No\",\n          \"Yes\"\n        ],\n        \"semantic_type\": \"\",\n        \"description\": \"\"\n      }\n    },\n    {\n      \"column\": \"Pat\",\n      \"properties\": {\n        \"dtype\": \"category\",\n        \"num_unique_values\": 3,\n        \"samples\": [\n          \"Some\",\n          \"Full\"\n        ],\n        \"semantic_type\": \"\",\n        \"description\": \"\"\n      }\n    },\n    {\n      \"column\": \"Price\",\n      \"properties\": {\n        \"dtype\": \"category\",\n        \"num_unique_values\": 5,\n        \"samples\": [\n          \"$\",\n          \"$$ \"\n        ],\n        \"semantic_type\": \"\",\n        \"description\": \"\"\n      }\n    },\n    {\n      \"column\": \"Rain\",\n      \"properties\": {\n        \"dtype\": \"category\",\n        \"num_unique_values\": 2,\n        \"samples\": [\n          \"Yes\",\n          \"No\"\n        ],\n        \"semantic_type\": \"\",\n        \"description\": \"\"\n      }\n    },\n    {\n      \"column\": \"Res\",\n      \"properties\": {\n        \"dtype\": \"category\",\n        \"num_unique_values\": 2,\n        \"samples\": [\n          \"No\",\n          \"Yes\"\n        ],\n        \"semantic_type\": \"\",\n        \"description\": \"\"\n      }\n    },\n    {\n      \"column\": \"Type\",\n      \"properties\": {\n        \"dtype\": \"category\",\n        \"num_unique_values\": 4,\n        \"samples\": [\n          \"Thai\",\n          \"Italian\"\n        ],\n        \"semantic_type\": \"\",\n        \"description\": \"\"\n      }\n    },\n    {\n      \"column\": \"Est\",\n      \"properties\": {\n        \"dtype\": \"category\",\n        \"num_unique_values\": 4,\n        \"samples\": [\n          \"30-60\",\n          \">60\"\n        ],\n        \"semantic_type\": \"\",\n        \"description\": \"\"\n      }\n    },\n    {\n      \"column\": \"Will Wait\",\n      \"properties\": {\n        \"dtype\": \"category\",\n        \"num_unique_values\": 2,\n        \"samples\": [\n          \"No\",\n          \"Yes\"\n        ],\n        \"semantic_type\": \"\",\n        \"description\": \"\"\n      }\n    }\n  ]\n}"
            }
          },
          "metadata": {},
          "execution_count": 5
        }
      ]
    },
    {
      "cell_type": "markdown",
      "source": [
        "#### Data preprocessing"
      ],
      "metadata": {
        "id": "excu0IxBr3zB"
      }
    },
    {
      "cell_type": "code",
      "source": [
        "# Extracting features (X) and target variable (y)\n",
        "X = dataset.drop(columns=['Will Wait'])  # Features (all columns except the last one)\n",
        "y = dataset['Will Wait']  # Target variable (last column)"
      ],
      "metadata": {
        "id": "Cnso95dPc870"
      },
      "execution_count": null,
      "outputs": []
    },
    {
      "cell_type": "code",
      "source": [
        "# Perform one-hot encoding for features (X)\n",
        "X_encoded = pd.get_dummies(X, drop_first=False)\n",
        "\n",
        "# Label encode the target variable (y)\n",
        "y_encoded = y.map({'No': 0, 'Yes': 1})\n",
        "\n",
        "# Combine the encoded features and target variable into a new DataFrame\n",
        "encoded_dataset = pd.concat([X_encoded, y_encoded], axis=1)\n",
        "\n",
        "# Display the updated DataFrame\n",
        "print(encoded_dataset)"
      ],
      "metadata": {
        "colab": {
          "base_uri": "https://localhost:8080/"
        },
        "id": "ookcVpTCS9_0",
        "outputId": "eafeda65-b343-424d-a2b8-c23ab38c0bd0"
      },
      "execution_count": null,
      "outputs": [
        {
          "output_type": "stream",
          "name": "stdout",
          "text": [
            "    Alt_No  Alt_Yes  Bar_No  Bar_Yes  Fri_No  Fri_Yes  Hun_No  Hun_Yes  \\\n",
            "0        0        1       1        0       1        0       0        1   \n",
            "1        0        1       1        0       1        0       0        1   \n",
            "2        1        0       0        1       1        0       1        0   \n",
            "3        0        1       1        0       0        1       0        1   \n",
            "4        0        1       1        0       0        1       1        0   \n",
            "5        1        0       0        1       1        0       0        1   \n",
            "6        1        0       0        1       1        0       1        0   \n",
            "7        1        0       1        0       1        0       0        1   \n",
            "8        1        0       0        1       0        1       1        0   \n",
            "9        0        1       0        1       0        1       0        1   \n",
            "10       1        0       1        0       1        0       1        0   \n",
            "11       0        1       0        1       0        1       0        1   \n",
            "\n",
            "    Pat_Full  Pat_None  ...  Res_Yes  Type_Burger  Type_French  Type_Italian  \\\n",
            "0          0         0  ...        1            0            1             0   \n",
            "1          1         0  ...        0            0            0             0   \n",
            "2          0         0  ...        0            1            0             0   \n",
            "3          1         0  ...        0            0            0             0   \n",
            "4          1         0  ...        1            0            1             0   \n",
            "5          0         0  ...        1            0            0             1   \n",
            "6          0         1  ...        0            1            0             0   \n",
            "7          0         0  ...        1            0            0             0   \n",
            "8          1         0  ...        0            1            0             0   \n",
            "9          1         0  ...        1            0            0             1   \n",
            "10         0         1  ...        0            0            0             0   \n",
            "11         1         0  ...        0            1            0             0   \n",
            "\n",
            "    Type_Thai  Est_0-10  Est_10-30  Est_30-60  Est_>60  Will Wait  \n",
            "0           0         1          0          0        0          1  \n",
            "1           1         0          0          1        0          0  \n",
            "2           0         1          0          0        0          1  \n",
            "3           1         0          1          0        0          1  \n",
            "4           0         0          0          0        1          0  \n",
            "5           0         1          0          0        0          1  \n",
            "6           0         1          0          0        0          0  \n",
            "7           1         1          0          0        0          1  \n",
            "8           0         0          0          0        1          0  \n",
            "9           0         0          1          0        0          0  \n",
            "10          1         1          0          0        0          0  \n",
            "11          0         0          0          1        0          1  \n",
            "\n",
            "[12 rows x 29 columns]\n"
          ]
        }
      ]
    },
    {
      "cell_type": "code",
      "source": [
        "def train_validation_split(X, y, validation_size=0.2, random_state=None):\n",
        "    \"\"\"Split the dataset into training and validation sets.\"\"\"\n",
        "    # Determine the number of samples for the validation set\n",
        "    num_validation = int(validation_size * len(X))\n",
        "\n",
        "    # Set the seed for reproducibility\n",
        "    if random_state is not None:\n",
        "        np.random.seed(random_state)\n",
        "\n",
        "    # Shuffle the indices\n",
        "    indices = np.random.permutation(len(X))\n",
        "\n",
        "    # Split the indices into training and validation sets\n",
        "    validation_indices = indices[:num_validation]\n",
        "    train_indices = indices[num_validation:]\n",
        "\n",
        "    # Split the data\n",
        "    X_train, X_validation = X.iloc[train_indices], X.iloc[validation_indices]\n",
        "    y_train, y_validation = y.iloc[train_indices], y.iloc[validation_indices]\n",
        "\n",
        "    return X_train, X_validation, y_train, y_validation\n"
      ],
      "metadata": {
        "id": "_pbCeP-coAVc"
      },
      "execution_count": null,
      "outputs": []
    },
    {
      "cell_type": "code",
      "source": [
        "X = encoded_dataset.drop(columns=['Will Wait'])  # Features (all columns except the last one)\n",
        "y = encoded_dataset['Will Wait']  # Target variable (last column)\n",
        "\n",
        "# Assuming 'X' is your feature matrix and 'y' is your target vector\n",
        "X_train, X_validation, y_train, y_validation = train_validation_split(X, y, validation_size=0.2, random_state=42)\n",
        "\n",
        "# Display the shapes of the resulting datasets\n",
        "print(\"X_train shape:\", X_train.shape)\n",
        "print(\"X_test shape:\", X_validation.shape)\n",
        "print(\"y_train shape:\", y_train.shape)\n",
        "print(\"y_test shape:\", y_validation.shape)\n"
      ],
      "metadata": {
        "colab": {
          "base_uri": "https://localhost:8080/"
        },
        "id": "wRbjF4d0mniz",
        "outputId": "a7d66839-da95-4458-ee8c-d230e919d9f4"
      },
      "execution_count": null,
      "outputs": [
        {
          "output_type": "stream",
          "name": "stdout",
          "text": [
            "X_train shape: (10, 28)\n",
            "X_test shape: (2, 28)\n",
            "y_train shape: (10,)\n",
            "y_test shape: (2,)\n"
          ]
        }
      ]
    },
    {
      "cell_type": "markdown",
      "source": [
        "# building a decision tree"
      ],
      "metadata": {
        "id": "33o18viLzgPQ"
      }
    },
    {
      "cell_type": "code",
      "source": [
        "class DecisionTree:\n",
        "    def __init__(self):\n",
        "        self.tree = None\n",
        "\n",
        "    def fit(self, X_train, y_train):\n",
        "        self.tree = self._build_tree(X_train, y_train)\n",
        "\n",
        "    def _calculate_entropy(self, y):\n",
        "        classes, counts = np.unique(y, return_counts=True)\n",
        "        probabilities = counts / len(y)\n",
        "        entropy = -np.sum(probabilities * np.log2(probabilities))\n",
        "        return entropy\n",
        "\n",
        "    def _calculate_information_gain(self, X, y, feature, threshold):\n",
        "        left_indices = X[:, feature] <= threshold\n",
        "        right_indices = X[:, feature] > threshold\n",
        "\n",
        "        left_entropy = self._calculate_entropy(y[left_indices])\n",
        "        right_entropy = self._calculate_entropy(y[right_indices])\n",
        "\n",
        "        parent_entropy = self._calculate_entropy(y)\n",
        "        left_weight = np.sum(left_indices) / len(y)\n",
        "        right_weight = np.sum(right_indices) / len(y)\n",
        "\n",
        "        information_gain = parent_entropy - (left_weight * left_entropy + right_weight * right_entropy)\n",
        "        return information_gain\n",
        "\n",
        "    def _find_best_split(self, X, y):\n",
        "        best_information_gain = -float('inf')\n",
        "        best_feature = None\n",
        "        best_threshold = None\n",
        "\n",
        "        for feature in range(X.shape[1]):\n",
        "            unique_values = np.unique(X[:, feature])\n",
        "            for value in unique_values:\n",
        "                information_gain = self._calculate_information_gain(X, y, feature, value)\n",
        "                if information_gain > best_information_gain:\n",
        "                    best_information_gain = information_gain\n",
        "                    best_feature = feature\n",
        "                    best_threshold = value\n",
        "\n",
        "        return best_feature, best_threshold\n",
        "\n",
        "    def _build_tree(self, X, y, depth=0):\n",
        "        if depth == 0:\n",
        "            print(\"Building decision tree...\")\n",
        "        if len(np.unique(y)) == 1:\n",
        "            return {'prediction': y[0]}\n",
        "\n",
        "        best_feature, best_threshold = self._find_best_split(X, y)\n",
        "        left_indices = X[:, best_feature] <= best_threshold\n",
        "        right_indices = X[:, best_feature] > best_threshold\n",
        "        left_subtree = self._build_tree(X[left_indices], y[left_indices], depth+1)\n",
        "        right_subtree = self._build_tree(X[right_indices], y[right_indices], depth+1)\n",
        "\n",
        "        return {'feature': best_feature, 'threshold': best_threshold, 'left': left_subtree, 'right': right_subtree}\n",
        "\n",
        "    def print_tree(self):\n",
        "        self._print_tree(self.tree)\n",
        "\n",
        "    def _print_tree(self, node, depth=0):\n",
        "        if isinstance(node, dict):\n",
        "            print('\\t' * depth + f\"[X{node['feature']} <= {node['threshold']}]\")\n",
        "            self._print_tree(node['left'], depth + 1)\n",
        "            self._print_tree(node['right'], depth + 1)\n",
        "        else:\n",
        "            print('\\t' * depth + f\"Predicted class: {node}\")\n",
        "\n",
        "    def predict(self, validation_set):\n",
        "        predictions = []\n",
        "        for _, row in validation_set.iterrows():\n",
        "            node = self.tree\n",
        "            while 'prediction' not in node:\n",
        "                feature = node['feature']\n",
        "                threshold = node['threshold']\n",
        "                if row[feature] <= threshold:\n",
        "                    node = node['left']\n",
        "                else:\n",
        "                    node = node['right']\n",
        "            predictions.append(node['prediction'])\n",
        "        return predictions"
      ],
      "metadata": {
        "id": "mVNWHW_M0UkL"
      },
      "execution_count": null,
      "outputs": []
    },
    {
      "cell_type": "code",
      "source": [
        "# Assuming X_val and y_val are the validation set\n",
        "decision_tree = DecisionTree()\n",
        "decision_tree.fit(X_train.values, y_train.values)\n",
        "predictions =decision_tree.predict(X_validation)"
      ],
      "metadata": {
        "colab": {
          "base_uri": "https://localhost:8080/"
        },
        "id": "9eGUbQgA0eXf",
        "outputId": "ee5d22e3-ac70-4964-90de-c9fe492adb9c"
      },
      "execution_count": null,
      "outputs": [
        {
          "output_type": "stream",
          "name": "stdout",
          "text": [
            "Building decision tree...\n"
          ]
        }
      ]
    },
    {
      "cell_type": "code",
      "source": [
        "print(predictions)\n",
        "print (y_validation.shape)"
      ],
      "metadata": {
        "colab": {
          "base_uri": "https://localhost:8080/"
        },
        "id": "Nc0-ONMO0q8u",
        "outputId": "519a82b6-ff5c-4aed-8c69-cb733e9fa629"
      },
      "execution_count": null,
      "outputs": [
        {
          "output_type": "stream",
          "name": "stdout",
          "text": [
            "[0, 1]\n",
            "(2,)\n"
          ]
        }
      ]
    },
    {
      "cell_type": "markdown",
      "source": [
        "# Evaluation"
      ],
      "metadata": {
        "id": "ONwFqslIMzk3"
      }
    },
    {
      "cell_type": "code",
      "source": [
        "def calculate_accuracy(y_true, y_pred):\n",
        "    return np.mean(y_true == y_pred)\n",
        "\n",
        "# Assuming you already have the predicted labels 'y_pred' and the true labels 'y_validation'\n",
        "accuracy = calculate_accuracy(y_validation.values, predictions)\n",
        "print(\"Accuracy:\", accuracy)\n"
      ],
      "metadata": {
        "colab": {
          "base_uri": "https://localhost:8080/"
        },
        "id": "CnOVeYfXA1Oy",
        "outputId": "2d7372fa-b396-4d1b-8c61-70565b81159a"
      },
      "execution_count": null,
      "outputs": [
        {
          "output_type": "stream",
          "name": "stdout",
          "text": [
            "Accuracy: 0.5\n"
          ]
        }
      ]
    }
  ]
}