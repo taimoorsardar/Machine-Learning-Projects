{
  "nbformat": 4,
  "nbformat_minor": 0,
  "metadata": {
    "colab": {
      "provenance": [],
      "authorship_tag": "ABX9TyO6eGggPD6gCsZN7tummwF2",
      "include_colab_link": true
    },
    "kernelspec": {
      "name": "python3",
      "display_name": "Python 3"
    },
    "language_info": {
      "name": "python"
    }
  },
  "cells": [
    {
      "cell_type": "markdown",
      "metadata": {
        "id": "view-in-github",
        "colab_type": "text"
      },
      "source": [
        "<a href=\"https://colab.research.google.com/github/taimoorsardar/Machine-Learning-Projects/blob/main/Comparison_of_Models_on_Iris.ipynb\" target=\"_parent\"><img src=\"https://colab.research.google.com/assets/colab-badge.svg\" alt=\"Open In Colab\"/></a>"
      ]
    },
    {
      "cell_type": "code",
      "execution_count": null,
      "metadata": {
        "id": "RxR6TJFgwuuJ"
      },
      "outputs": [],
      "source": [
        "# Import necessary libraries\n",
        "from sklearn.datasets import fetch_openml\n",
        "from sklearn.model_selection import train_test_split\n",
        "from sklearn.naive_bayes import GaussianNB\n",
        "from sklearn.tree import DecisionTreeClassifier\n",
        "from sklearn.svm import SVC\n",
        "from sklearn.linear_model import LogisticRegression\n",
        "from sklearn.metrics import accuracy_score\n",
        "import time"
      ]
    },
    {
      "cell_type": "code",
      "source": [
        "# Load MNIST dataset\n",
        "mnist = fetch_openml('mnist_784')"
      ],
      "metadata": {
        "colab": {
          "base_uri": "https://localhost:8080/"
        },
        "id": "8tmpAD7kzb7E",
        "outputId": "f59c5967-11fe-4d92-968a-9ea08b7ac4b6"
      },
      "execution_count": null,
      "outputs": [
        {
          "output_type": "stream",
          "name": "stderr",
          "text": [
            "/usr/local/lib/python3.10/dist-packages/sklearn/datasets/_openml.py:968: FutureWarning: The default value of `parser` will change from `'liac-arff'` to `'auto'` in 1.4. You can set `parser='auto'` to silence this warning. Therefore, an `ImportError` will be raised from 1.4 if the dataset is dense and pandas is not installed. Note that the pandas parser may return different data types. See the Notes Section in fetch_openml's API doc for details.\n",
            "  warn(\n"
          ]
        }
      ]
    },
    {
      "cell_type": "code",
      "source": [
        "X =mnist.data\n",
        "\n",
        "y =mnist.target\n",
        "\n",
        "print(\"feature shape\",X.shape)\n",
        "print (\"labels\",y.shape)"
      ],
      "metadata": {
        "colab": {
          "base_uri": "https://localhost:8080/"
        },
        "id": "FEBYSh9q0lC4",
        "outputId": "ab56c5ac-a094-4b4d-e690-7aa5d75cf856"
      },
      "execution_count": null,
      "outputs": [
        {
          "output_type": "stream",
          "name": "stdout",
          "text": [
            "feature shape (70000, 784)\n",
            "labels (70000,)\n"
          ]
        }
      ]
    },
    {
      "cell_type": "code",
      "source": [
        "import numpy as np\n",
        "print (\"Minimum value of X\", np.min(X))\n",
        "print (\"Maximum value of X\", np.max(X))"
      ],
      "metadata": {
        "colab": {
          "base_uri": "https://localhost:8080/"
        },
        "id": "5jW46sY7_NqT",
        "outputId": "df3220ba-531a-4ca9-a476-6cd2eb53e929"
      },
      "execution_count": null,
      "outputs": [
        {
          "output_type": "stream",
          "name": "stdout",
          "text": [
            "Minimum value of X 0.0\n",
            "Maximum value of X 255.0\n"
          ]
        }
      ]
    },
    {
      "cell_type": "code",
      "source": [
        "X = X/255.0"
      ],
      "metadata": {
        "id": "jA5qVCwYAY6w"
      },
      "execution_count": null,
      "outputs": []
    },
    {
      "cell_type": "code",
      "source": [
        "print (\"Minimum value of X\", np.min(X))\n",
        "print (\"Maximum value of X\", np.max(X))"
      ],
      "metadata": {
        "colab": {
          "base_uri": "https://localhost:8080/"
        },
        "id": "WAfmwGxwAf9t",
        "outputId": "4f0354e7-3244-4f62-e7b7-29189359324c"
      },
      "execution_count": null,
      "outputs": [
        {
          "output_type": "stream",
          "name": "stdout",
          "text": [
            "Minimum value of X 0.0\n",
            "Maximum value of X 1.0\n"
          ]
        }
      ]
    },
    {
      "cell_type": "code",
      "source": [
        "print(mnist.data[:5]) # checking first 5 rows of mnist dataset"
      ],
      "metadata": {
        "colab": {
          "base_uri": "https://localhost:8080/"
        },
        "id": "L2G2m5PI1HU5",
        "outputId": "b2c68b66-0f89-482d-c2d9-ca8c2aebdd44"
      },
      "execution_count": null,
      "outputs": [
        {
          "output_type": "stream",
          "name": "stdout",
          "text": [
            "   pixel1  pixel2  pixel3  pixel4  pixel5  pixel6  pixel7  pixel8  pixel9  \\\n",
            "0     0.0     0.0     0.0     0.0     0.0     0.0     0.0     0.0     0.0   \n",
            "1     0.0     0.0     0.0     0.0     0.0     0.0     0.0     0.0     0.0   \n",
            "2     0.0     0.0     0.0     0.0     0.0     0.0     0.0     0.0     0.0   \n",
            "3     0.0     0.0     0.0     0.0     0.0     0.0     0.0     0.0     0.0   \n",
            "4     0.0     0.0     0.0     0.0     0.0     0.0     0.0     0.0     0.0   \n",
            "\n",
            "   pixel10  ...  pixel775  pixel776  pixel777  pixel778  pixel779  pixel780  \\\n",
            "0      0.0  ...       0.0       0.0       0.0       0.0       0.0       0.0   \n",
            "1      0.0  ...       0.0       0.0       0.0       0.0       0.0       0.0   \n",
            "2      0.0  ...       0.0       0.0       0.0       0.0       0.0       0.0   \n",
            "3      0.0  ...       0.0       0.0       0.0       0.0       0.0       0.0   \n",
            "4      0.0  ...       0.0       0.0       0.0       0.0       0.0       0.0   \n",
            "\n",
            "   pixel781  pixel782  pixel783  pixel784  \n",
            "0       0.0       0.0       0.0       0.0  \n",
            "1       0.0       0.0       0.0       0.0  \n",
            "2       0.0       0.0       0.0       0.0  \n",
            "3       0.0       0.0       0.0       0.0  \n",
            "4       0.0       0.0       0.0       0.0  \n",
            "\n",
            "[5 rows x 784 columns]\n"
          ]
        }
      ]
    },
    {
      "cell_type": "code",
      "source": [
        "# Split dataset into training and testing sets\n",
        "X_train, X_test, y_train, y_test = train_test_split(mnist.data, mnist.target, test_size=0.2, random_state=42)"
      ],
      "metadata": {
        "id": "OSEObcXOzoRz"
      },
      "execution_count": null,
      "outputs": []
    },
    {
      "cell_type": "code",
      "source": [
        "# Gaussian Naïve Bayes Classifier\n",
        "start_time = time.time()\n",
        "gnb = GaussianNB()\n",
        "gnb.fit(X_train, y_train)\n",
        "gnb_pred = gnb.predict(X_test)\n",
        "gnb_accuracy = accuracy_score(y_test, gnb_pred)\n",
        "print(f\"Gaussian Naïve Bayes Classifier Accuracy: {gnb_accuracy*100:.2f}%\")\n",
        "print(f\"Time taken: {time.time() - start_time:.2f} seconds\")\n"
      ],
      "metadata": {
        "colab": {
          "base_uri": "https://localhost:8080/"
        },
        "id": "ZuN_xApvzpn3",
        "outputId": "8e9a5d79-4796-4565-ebd2-aaf77a201459"
      },
      "execution_count": null,
      "outputs": [
        {
          "output_type": "stream",
          "name": "stdout",
          "text": [
            "Gaussian Naïve Bayes Classifier Accuracy: 55.16%\n",
            "Time taken: 3.10 seconds\n"
          ]
        }
      ]
    },
    {
      "cell_type": "code",
      "source": [
        "# Decision Trees Classifier\n",
        "start_time = time.time()\n",
        "dtc = DecisionTreeClassifier()\n",
        "dtc.fit(X_train, y_train)\n",
        "dtc_pred = dtc.predict(X_test)\n",
        "dtc_accuracy = accuracy_score(y_test, dtc_pred)\n",
        "print(f\"Decision Trees Classifier Accuracy: {dtc_accuracy*100:.2f}%\")\n",
        "print(f\"Time taken: {time.time() - start_time:.2f} seconds\")\n"
      ],
      "metadata": {
        "colab": {
          "base_uri": "https://localhost:8080/"
        },
        "id": "zClKq4C-0VqH",
        "outputId": "9c94bf7a-c9e7-4953-bfcc-429abf37f2b6"
      },
      "execution_count": null,
      "outputs": [
        {
          "output_type": "stream",
          "name": "stdout",
          "text": [
            "Decision Trees Classifier Accuracy: 87.34%\n",
            "Time taken: 21.03 seconds\n"
          ]
        }
      ]
    },
    {
      "cell_type": "code",
      "source": [
        "# Support Vector Classifier\n",
        "start_time = time.time()\n",
        "svc = SVC()\n",
        "svc.fit(X_train, y_train)\n",
        "svc_pred = svc.predict(X_test)\n",
        "svc_accuracy = accuracy_score(y_test, svc_pred)\n",
        "print(f\"Support Vector Classifier Accuracy: {svc_accuracy*100:.2f}%\")\n",
        "print(f\"Time taken: {time.time() - start_time:.2f} seconds\")"
      ],
      "metadata": {
        "colab": {
          "base_uri": "https://localhost:8080/"
        },
        "id": "4v-1-sFm1om5",
        "outputId": "45d96da0-da59-448b-c1c4-a066b729a46a"
      },
      "execution_count": null,
      "outputs": [
        {
          "output_type": "stream",
          "name": "stdout",
          "text": [
            "Support Vector Classifier Accuracy: 97.64%\n",
            "Time taken: 483.03 seconds\n"
          ]
        }
      ]
    },
    {
      "cell_type": "code",
      "source": [
        "# Logistic Regression Classifier\n",
        "start_time = time.time()\n",
        "lr = LogisticRegression(max_iter=1000)\n",
        "lr.fit(X_train, y_train)\n",
        "lr_pred = lr.predict(X_test)\n",
        "lr_accuracy = accuracy_score(y_test, lr_pred)\n",
        "print(f\"Logistic Regression Classifier Accuracy: {lr_accuracy*100:.2f}%\")\n",
        "print(f\"Time taken: {time.time() - start_time:.2f} seconds\")"
      ],
      "metadata": {
        "colab": {
          "base_uri": "https://localhost:8080/"
        },
        "id": "gLzKNTKl2b6r",
        "outputId": "ca24b332-46c8-40af-ff7f-014be80ffa56"
      },
      "execution_count": null,
      "outputs": [
        {
          "output_type": "stream",
          "name": "stdout",
          "text": [
            "Logistic Regression Classifier Accuracy: 91.62%\n",
            "Time taken: 314.41 seconds\n"
          ]
        },
        {
          "output_type": "stream",
          "name": "stderr",
          "text": [
            "/usr/local/lib/python3.10/dist-packages/sklearn/linear_model/_logistic.py:458: ConvergenceWarning: lbfgs failed to converge (status=1):\n",
            "STOP: TOTAL NO. of ITERATIONS REACHED LIMIT.\n",
            "\n",
            "Increase the number of iterations (max_iter) or scale the data as shown in:\n",
            "    https://scikit-learn.org/stable/modules/preprocessing.html\n",
            "Please also refer to the documentation for alternative solver options:\n",
            "    https://scikit-learn.org/stable/modules/linear_model.html#logistic-regression\n",
            "  n_iter_i = _check_optimize_result(\n"
          ]
        }
      ]
    },
    {
      "cell_type": "markdown",
      "source": [
        "#Analysis and Discussion"
      ],
      "metadata": {
        "id": "x5ksTPkJUBKt"
      }
    },
    {
      "cell_type": "markdown",
      "source": [
        "##Conclusion"
      ],
      "metadata": {
        "id": "gF8QkMThUTFj"
      }
    },
    {
      "cell_type": "markdown",
      "source": [
        "Support Vector Classifier (SVC) and Logistic Regression emerge as the top performers because accuracy of both is above 90 percent, outshining the Gaussian Naïve Bayes and Decision Tree classifiers in terms of accuracy."
      ],
      "metadata": {
        "id": "cLL5tdX3UP-a"
      }
    },
    {
      "cell_type": "markdown",
      "source": [
        "##Reasoning"
      ],
      "metadata": {
        "id": "Ws952VENUXvg"
      }
    },
    {
      "cell_type": "markdown",
      "source": [
        "\n",
        "**Capability to Capture Complex Relationships:** SVC and Logistic Regression excel at capturing intricate relationships between features and labels. They can navigate the high dimensionality present in the MNIST dataset, allowing them to effectively separate the classes.\n",
        "\n",
        "**Handling High Dimensionality:** With the MNIST dataset comprising images with high-dimensional feature vectors, both SVC and Logistic Regression prove to be adept at handling such complex data structures. SVC, in particular, is renowned for its proficiency in high-dimensional spaces, making it especially suitable for image classification tasks like MNIST.\n",
        "\n",
        "**Kernel Flexibility:** Although a linear kernel was employed for SVC in this analysis, it still showcased commendable performance. Non-linear kernels, such as the radial basis function (RBF), could further enhance the flexibility and accuracy of SVC in capturing intricate patterns in the data.\n"
      ],
      "metadata": {
        "id": "_Wmq-LQ_Uam-"
      }
    },
    {
      "cell_type": "markdown",
      "source": [
        "##Why Naive Bayes Classifier is not as good"
      ],
      "metadata": {
        "id": "alTpx7mpVnXe"
      }
    },
    {
      "cell_type": "markdown",
      "source": [
        "\n",
        "Conversely, the Gaussian Naïve Bayes Classifier lags behind with a relatively lower accuracy due to its inherent assumption of feature independence, which is often violated in image data like MNIST. The interconnected nature of pixels in images renders the independence assumption less applicable, leading to suboptimal performance."
      ],
      "metadata": {
        "id": "u6IzTGyvVfnt"
      }
    }
  ]
}